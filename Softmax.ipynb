{
 "cells": [
  {
   "cell_type": "markdown",
   "metadata": {},
   "source": [
    "# MNIST - Softmax model "
   ]
  },
  {
   "cell_type": "code",
   "execution_count": 126,
   "metadata": {},
   "outputs": [],
   "source": [
    "import numpy as np # linear algebra\n",
    "import pandas as pd # data processing, CSV file I/O (e.g. pd.read_csv)\n",
    "import tensorflow as tf # tensor flow\n",
    "from keras.utils.np_utils import to_categorical # one hot encoding"
   ]
  },
  {
   "cell_type": "code",
   "execution_count": 127,
   "metadata": {},
   "outputs": [],
   "source": [
    "# configuration parameter\n",
    "TRAINING_ITERATIONS = 100000\n",
    "BATCH_SIZE = 128"
   ]
  },
  {
   "cell_type": "code",
   "execution_count": 128,
   "metadata": {},
   "outputs": [],
   "source": [
    "epochs_completed = 0\n",
    "index_in_epoch = 0\n",
    "num_examples = y_train.shape[0]\n",
    "\n",
    "def next_batch(batch_size, i):\n",
    "    global x_train\n",
    "    global y_train\n",
    "    global index_in_epoch\n",
    "    global epochs_completed\n",
    "    \n",
    "    start = index_in_epoch\n",
    "    index_in_epoch += batch_size\n",
    "    \n",
    "    # when all trainig data have been already used, it is reorder randomly\n",
    "    if index_in_epoch > num_examples:\n",
    "        # finished epoch\n",
    "        epochs_completed += 1\n",
    "        # shuffle the data\n",
    "        perm = np.arange(num_examples)\n",
    "        np.random.shuffle(perm)\n",
    "        x_train = x_train[perm]\n",
    "        y_train = y_train[perm]\n",
    "        # start next epoch\n",
    "        start = 0\n",
    "        index_in_epoch = batch_size\n",
    "    end = index_in_epoch\n",
    "    return x_train[start:end], y_train[start:end]"
   ]
  },
  {
   "cell_type": "code",
   "execution_count": 129,
   "metadata": {},
   "outputs": [],
   "source": [
    "# read training data from CSV file\n",
    "dataset = pd.read_csv(\"./data/train.csv\")\n",
    "x_train = dataset.iloc[:,1:].values.astype('float32')\n",
    "y_train = dataset.iloc[:,0].values.astype('float32')\n",
    "y_train = to_categorical(y_train)\n",
    "y_train = y_train.astype(np.uint8)\n",
    "x_ = tf.placeholder(tf.float32, [None, 784])"
   ]
  },
  {
   "cell_type": "code",
   "execution_count": 143,
   "metadata": {},
   "outputs": [
    {
     "data": {
      "image/png": "[encoded data removed]",
      "text/plain": [
       "<matplotlib.figure.Figure at 0x7ff0e96258d0>"
      ]
     },
     "metadata": {},
     "output_type": "display_data"
    }
   ],
   "source": [
    "import matplotlib.pyplot as plt\n",
    "%matplotlib inline\n",
    "\n",
    "test = x_train[2,:].reshape(28,28)\n",
    "plt.imshow(test, cmap=plt.get_cmap('gray'))\n",
    "plt.title(y_train[2]);"
   ]
  },
  {
   "cell_type": "code",
   "execution_count": 131,
   "metadata": {},
   "outputs": [],
   "source": [
    "# define the model\n",
    "W = tf.Variable(tf.zeros([784, 10]))\n",
    "b = tf.Variable(tf.zeros([10]))\n",
    "y = tf.nn.softmax(tf.matmul(x_, W) + b)\n",
    "y_ = tf.placeholder(tf.float32, [None, 10])"
   ]
  },
  {
   "cell_type": "code",
   "execution_count": 132,
   "metadata": {},
   "outputs": [],
   "source": [
    "correct_prediction = tf.equal(tf.argmax(y, 1), tf.argmax(y_, 1))\n",
    "accuracy = tf.reduce_mean(tf.cast(correct_prediction, \"float\"))"
   ]
  },
  {
   "cell_type": "code",
   "execution_count": 133,
   "metadata": {},
   "outputs": [],
   "source": [
    "# loss func\n",
    "cross_entropy = -tf.reduce_sum(y_ * tf.log(y))"
   ]
  },
  {
   "cell_type": "code",
   "execution_count": 134,
   "metadata": {},
   "outputs": [],
   "source": [
    "train_step = tf.train.GradientDescentOptimizer(0.01).minimize(cross_entropy)"
   ]
  },
  {
   "cell_type": "code",
   "execution_count": 135,
   "metadata": {},
   "outputs": [],
   "source": [
    "# init\n",
    "init = tf.global_variables_initializer()\n",
    "\n",
    "sess = tf.Session()\n",
    "sess.run(init)"
   ]
  },
  {
   "cell_type": "code",
   "execution_count": 136,
   "metadata": {},
   "outputs": [
    {
     "name": "stdout",
     "output_type": "stream",
     "text": [
      "training_accuracy => 0.5156 for step 0\n",
      "training_accuracy => 0.1328 for step 1\n",
      "training_accuracy => 0.1406 for step 2\n",
      "training_accuracy => 0.0781 for step 3\n",
      "training_accuracy => 0.0859 for step 4\n",
      "training_accuracy => 0.1016 for step 5\n",
      "training_accuracy => 0.1172 for step 6\n",
      "training_accuracy => 0.0781 for step 7\n",
      "training_accuracy => 0.0703 for step 8\n",
      "training_accuracy => 0.0781 for step 9\n",
      "training_accuracy => 0.0938 for step 10\n",
      "training_accuracy => 0.1016 for step 20\n",
      "training_accuracy => 0.1094 for step 30\n",
      "training_accuracy => 0.0625 for step 40\n",
      "training_accuracy => 0.1016 for step 50\n",
      "training_accuracy => 0.0938 for step 60\n",
      "training_accuracy => 0.1016 for step 70\n",
      "training_accuracy => 0.0703 for step 80\n",
      "training_accuracy => 0.1797 for step 90\n",
      "training_accuracy => 0.0938 for step 100\n",
      "training_accuracy => 0.0703 for step 200\n",
      "training_accuracy => 0.1016 for step 300\n",
      "training_accuracy => 0.1094 for step 400\n",
      "training_accuracy => 0.1406 for step 500\n",
      "training_accuracy => 0.0781 for step 600\n",
      "training_accuracy => 0.1172 for step 700\n",
      "training_accuracy => 0.0938 for step 800\n",
      "training_accuracy => 0.1016 for step 900\n",
      "training_accuracy => 0.1328 for step 1000\n",
      "training_accuracy => 0.0781 for step 2000\n",
      "training_accuracy => 0.1016 for step 3000\n",
      "training_accuracy => 0.0938 for step 4000\n",
      "training_accuracy => 0.0625 for step 5000\n",
      "training_accuracy => 0.0859 for step 6000\n",
      "training_accuracy => 0.0781 for step 7000\n",
      "training_accuracy => 0.1016 for step 8000\n",
      "training_accuracy => 0.0703 for step 9000\n"
     ]
    }
   ],
   "source": [
    "# train\n",
    "display_step = 1\n",
    "for i in range(TRAINING_ITERATIONS):\n",
    "    batch_xs, batch_ys = next_batch(BATCH_SIZE, i)\n",
    "    sess.run(train_step, feed_dict={x_: batch_xs, y_: batch_ys})\n",
    "    # check progress on every 1st,2nd,...,10th,20th,...,100th... step\n",
    "    if i % display_step == 0 or (i + 1) == TRAINING_ITERATIONS:\n",
    "        train_accuracy = sess.run(accuracy, feed_dict={x_: batch_xs, y_: batch_ys})\n",
    "        print('training_accuracy => %.4f for step %d' % (train_accuracy, i))\n",
    "        \n",
    "        # increase display_step\n",
    "        if i % (display_step * 10) == 0 and i:\n",
    "            display_step *= 10"
   ]
  },
  {
   "cell_type": "code",
   "execution_count": null,
   "metadata": {},
   "outputs": [],
   "source": [
    "# read testing data from CSV file\n",
    "x_test = pd.read_csv(\"./data/test.csv\").values.astype('float32')"
   ]
  }
 ],
 "metadata": {
  "kernelspec": {
   "display_name": "Python 3",
   "language": "python",
   "name": "python3"
  },
  "language_info": {
   "codemirror_mode": {
    "name": "ipython",
    "version": 3
   },
   "file_extension": ".py",
   "mimetype": "text/x-python",
   "name": "python",
   "nbconvert_exporter": "python",
   "pygments_lexer": "ipython3",
   "version": "3.5.2"
  }
 },
 "nbformat": 4,
 "nbformat_minor": 2
}
